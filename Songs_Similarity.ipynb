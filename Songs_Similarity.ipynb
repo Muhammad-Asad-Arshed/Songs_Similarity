{
  "nbformat": 4,
  "nbformat_minor": 0,
  "metadata": {
    "colab": {
      "provenance": []
    },
    "kernelspec": {
      "name": "python3",
      "display_name": "Python 3"
    },
    "language_info": {
      "name": "python"
    }
  },
  "cells": [
    {
      "cell_type": "code",
      "source": [
        "!pip install librosa numpy scipy"
      ],
      "metadata": {
        "colab": {
          "base_uri": "https://localhost:8080/"
        },
        "id": "S07eb2JSbmpT",
        "outputId": "58e8c9ec-3ca8-481c-eae1-d96c6cd5f218"
      },
      "execution_count": 6,
      "outputs": [
        {
          "output_type": "stream",
          "name": "stdout",
          "text": [
            "Requirement already satisfied: librosa in /usr/local/lib/python3.10/dist-packages (0.10.0.post2)\n",
            "Requirement already satisfied: numpy in /usr/local/lib/python3.10/dist-packages (1.23.5)\n",
            "Requirement already satisfied: scipy in /usr/local/lib/python3.10/dist-packages (1.10.1)\n",
            "Requirement already satisfied: audioread>=2.1.9 in /usr/local/lib/python3.10/dist-packages (from librosa) (3.0.0)\n",
            "Requirement already satisfied: scikit-learn>=0.20.0 in /usr/local/lib/python3.10/dist-packages (from librosa) (1.2.2)\n",
            "Requirement already satisfied: joblib>=0.14 in /usr/local/lib/python3.10/dist-packages (from librosa) (1.3.1)\n",
            "Requirement already satisfied: decorator>=4.3.0 in /usr/local/lib/python3.10/dist-packages (from librosa) (4.4.2)\n",
            "Requirement already satisfied: numba>=0.51.0 in /usr/local/lib/python3.10/dist-packages (from librosa) (0.56.4)\n",
            "Requirement already satisfied: soundfile>=0.12.1 in /usr/local/lib/python3.10/dist-packages (from librosa) (0.12.1)\n",
            "Requirement already satisfied: pooch<1.7,>=1.0 in /usr/local/lib/python3.10/dist-packages (from librosa) (1.6.0)\n",
            "Requirement already satisfied: soxr>=0.3.2 in /usr/local/lib/python3.10/dist-packages (from librosa) (0.3.5)\n",
            "Requirement already satisfied: typing-extensions>=4.1.1 in /usr/local/lib/python3.10/dist-packages (from librosa) (4.7.1)\n",
            "Requirement already satisfied: lazy-loader>=0.1 in /usr/local/lib/python3.10/dist-packages (from librosa) (0.3)\n",
            "Requirement already satisfied: msgpack>=1.0 in /usr/local/lib/python3.10/dist-packages (from librosa) (1.0.5)\n",
            "Requirement already satisfied: llvmlite<0.40,>=0.39.0dev0 in /usr/local/lib/python3.10/dist-packages (from numba>=0.51.0->librosa) (0.39.1)\n",
            "Requirement already satisfied: setuptools in /usr/local/lib/python3.10/dist-packages (from numba>=0.51.0->librosa) (67.7.2)\n",
            "Requirement already satisfied: appdirs>=1.3.0 in /usr/local/lib/python3.10/dist-packages (from pooch<1.7,>=1.0->librosa) (1.4.4)\n",
            "Requirement already satisfied: packaging>=20.0 in /usr/local/lib/python3.10/dist-packages (from pooch<1.7,>=1.0->librosa) (23.1)\n",
            "Requirement already satisfied: requests>=2.19.0 in /usr/local/lib/python3.10/dist-packages (from pooch<1.7,>=1.0->librosa) (2.31.0)\n",
            "Requirement already satisfied: threadpoolctl>=2.0.0 in /usr/local/lib/python3.10/dist-packages (from scikit-learn>=0.20.0->librosa) (3.2.0)\n",
            "Requirement already satisfied: cffi>=1.0 in /usr/local/lib/python3.10/dist-packages (from soundfile>=0.12.1->librosa) (1.15.1)\n",
            "Requirement already satisfied: pycparser in /usr/local/lib/python3.10/dist-packages (from cffi>=1.0->soundfile>=0.12.1->librosa) (2.21)\n",
            "Requirement already satisfied: charset-normalizer<4,>=2 in /usr/local/lib/python3.10/dist-packages (from requests>=2.19.0->pooch<1.7,>=1.0->librosa) (3.2.0)\n",
            "Requirement already satisfied: idna<4,>=2.5 in /usr/local/lib/python3.10/dist-packages (from requests>=2.19.0->pooch<1.7,>=1.0->librosa) (3.4)\n",
            "Requirement already satisfied: urllib3<3,>=1.21.1 in /usr/local/lib/python3.10/dist-packages (from requests>=2.19.0->pooch<1.7,>=1.0->librosa) (1.26.16)\n",
            "Requirement already satisfied: certifi>=2017.4.17 in /usr/local/lib/python3.10/dist-packages (from requests>=2.19.0->pooch<1.7,>=1.0->librosa) (2023.7.22)\n"
          ]
        }
      ]
    },
    {
      "cell_type": "code",
      "source": [
        "import librosa\n",
        "import numpy as np\n",
        "from scipy.spatial.distance import cosine, euclidean"
      ],
      "metadata": {
        "id": "jvcSLMOLskk_"
      },
      "execution_count": 11,
      "outputs": []
    },
    {
      "cell_type": "code",
      "source": [
        "\n",
        "def extract_mfcc(audio_path):\n",
        "    y, sr = librosa.load(audio_path)\n",
        "    mfccs = librosa.feature.mfcc(y=y, sr=sr)\n",
        "    return mfccs.flatten()\n"
      ],
      "metadata": {
        "id": "r5lENPCXr-59"
      },
      "execution_count": 12,
      "outputs": []
    },
    {
      "cell_type": "code",
      "source": [
        "import subprocess"
      ],
      "metadata": {
        "id": "dwzcM3aEs1Vq"
      },
      "execution_count": 13,
      "outputs": []
    },
    {
      "cell_type": "code",
      "source": [
        "def convert_mp3_to_wav(mp3_path, wav_path):\n",
        "    command = [\"ffmpeg\", \"-i\", mp3_path, \"-acodec\", \"pcm_s16le\", \"-ac\", \"1\", \"-ar\", \"16000\", wav_path]\n",
        "    subprocess.run(command)"
      ],
      "metadata": {
        "id": "3yP6SW8Hs4qD"
      },
      "execution_count": 14,
      "outputs": []
    },
    {
      "cell_type": "code",
      "source": [
        "convert_mp3_to_wav(\"song1.mp3\", \"song1.wav\")\n",
        "convert_mp3_to_wav(\"song2.mp3\", \"song2.wav\")"
      ],
      "metadata": {
        "id": "bZX9iEOXs8VA"
      },
      "execution_count": 26,
      "outputs": []
    },
    {
      "cell_type": "code",
      "source": [
        "song1_mfcc = extract_mfcc(\"song1.wav\")\n",
        "song2_mfcc = extract_mfcc(\"song2.wav\")"
      ],
      "metadata": {
        "id": "9uWSKGYgsqg2"
      },
      "execution_count": 23,
      "outputs": []
    },
    {
      "cell_type": "code",
      "source": [
        "def align_arrays(array1, array2):\n",
        "    max_length = max(len(array1), len(array2))\n",
        "    padded_array1 = np.pad(array1, (0, max_length - len(array1)))\n",
        "    padded_array2 = np.pad(array2, (0, max_length - len(array2)))\n",
        "    return padded_array1, padded_array2\n",
        "\n",
        "aligned_song1_mfcc, aligned_song2_mfcc = align_arrays(song1_mfcc, song2_mfcc)"
      ],
      "metadata": {
        "id": "qVx29e2yuCtI"
      },
      "execution_count": 24,
      "outputs": []
    },
    {
      "cell_type": "code",
      "source": [
        "def calculate_similarity(feature1, feature2, metric='cosine'):\n",
        "    if metric == 'cosine':\n",
        "        return 1 - cosine(feature1, feature2)\n",
        "    elif metric == 'euclidean':\n",
        "        return 1 / (1 + euclidean(feature1, feature2))\n",
        "\n",
        "similarity_cosine = calculate_similarity(aligned_song1_mfcc, aligned_song2_mfcc, metric='cosine')\n",
        "similarity_euclidean = calculate_similarity(aligned_song1_mfcc, aligned_song2_mfcc, metric='euclidean')\n",
        "\n",
        "print(\"Cosine Similarity:\", similarity_cosine)\n",
        "print(\"Euclidean Similarity:\", similarity_euclidean)"
      ],
      "metadata": {
        "colab": {
          "base_uri": "https://localhost:8080/"
        },
        "id": "OlLo0KU4sHN3",
        "outputId": "2db819c0-413c-4754-c756-864611d43388"
      },
      "execution_count": 25,
      "outputs": [
        {
          "output_type": "stream",
          "name": "stdout",
          "text": [
            "Cosine Similarity: 1\n",
            "Euclidean Similarity: 1.0\n"
          ]
        }
      ]
    }
  ]
}